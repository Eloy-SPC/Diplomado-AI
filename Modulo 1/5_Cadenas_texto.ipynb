{
 "cells": [
  {
   "cell_type": "markdown",
   "metadata": {},
   "source": [
    "# Cadena de texto "
   ]
  },
  {
   "cell_type": "markdown",
   "metadata": {},
   "source": [
    "Las cadenas de texto son secuencias de caractereres. Tambien se les conoce como strings"
   ]
  },
  {
   "cell_type": "code",
   "execution_count": 5,
   "metadata": {},
   "outputs": [
    {
     "data": {
      "text/plain": [
       "\"Esto es una 'cadena' de texto\""
      ]
     },
     "execution_count": 5,
     "metadata": {},
     "output_type": "execute_result"
    }
   ],
   "source": [
    "#Esta es la primer forma de especificar un texto\n",
    "texto=\"Esto es una 'cadena' de texto\"\n",
    "texto"
   ]
  },
  {
   "cell_type": "code",
   "execution_count": 6,
   "metadata": {},
   "outputs": [
    {
     "data": {
      "text/plain": [
       "'Esta es una \"cadena\" de texto'"
      ]
     },
     "execution_count": 6,
     "metadata": {},
     "output_type": "execute_result"
    }
   ],
   "source": [
    "#Cadena con comillas simples\n",
    "texto='Esta es una \"cadena\" de texto'\n",
    "texto"
   ]
  },
  {
   "cell_type": "code",
   "execution_count": 8,
   "metadata": {},
   "outputs": [
    {
     "data": {
      "text/plain": [
       "'\\nLa tasea se calcula dividiendo el numero de delitos ocurrido por extorsion entre la poblacion de 18 anos y mas multiplicado por cien mil. La tasa se calcula..\\n'"
      ]
     },
     "execution_count": 8,
     "metadata": {},
     "output_type": "execute_result"
    }
   ],
   "source": [
    "texto = \"\"\"\n",
    "La tasea se calcula dividiendo el numero de delitos ocurrido por extorsion entre la poblacion de 18 anos y mas multiplicado por cien mil. La tasa se calcula..\n",
    "\"\"\"\"\"\n",
    "texto\n"
   ]
  },
  {
   "cell_type": "code",
   "execution_count": 9,
   "metadata": {},
   "outputs": [
    {
     "name": "stdout",
     "output_type": "stream",
     "text": [
      "Primera linea \n",
      " Segunda liunea \n",
      " Tercera linea\n"
     ]
    }
   ],
   "source": [
    "msg = \"Primera linea \\n Segunda liunea \\n Tercera linea\"\n",
    "print(msg)"
   ]
  },
  {
   "cell_type": "code",
   "execution_count": 10,
   "metadata": {},
   "outputs": [
    {
     "data": {
      "text/plain": [
       "'texto'"
      ]
     },
     "execution_count": 10,
     "metadata": {},
     "output_type": "execute_result"
    }
   ],
   "source": [
    "msg = 'texto'\n",
    "msg \n"
   ]
  },
  {
   "cell_type": "markdown",
   "metadata": {},
   "source": [
    "## Un poco mas de la funcion print()"
   ]
  },
  {
   "cell_type": "code",
   "execution_count": 12,
   "metadata": {},
   "outputs": [
    {
     "name": "stdout",
     "output_type": "stream",
     "text": [
      "hola mundo mundo\n"
     ]
    }
   ],
   "source": [
    "msg1 = 'hola'\n",
    "msg2 = 'mundo'\n",
    "msg3 = 'mundo'\n",
    "\n",
    "\n",
    "print(msg1, msg2, msg3)"
   ]
  },
  {
   "cell_type": "code",
   "execution_count": 13,
   "metadata": {},
   "outputs": [
    {
     "name": "stdout",
     "output_type": "stream",
     "text": [
      "hola|mundo|mundo\n"
     ]
    }
   ],
   "source": [
    "print(msg1,msg3,msg2, sep = '|')"
   ]
  },
  {
   "cell_type": "code",
   "execution_count": 14,
   "metadata": {},
   "outputs": [
    {
     "name": "stdout",
     "output_type": "stream",
     "text": [
      "hola mundo|mundo\n"
     ]
    }
   ],
   "source": [
    "print(msg1,msg2, end='|')\n",
    "print(msg3)"
   ]
  },
  {
   "cell_type": "markdown",
   "metadata": {},
   "source": [
    "# Concatenacion"
   ]
  },
  {
   "cell_type": "code",
   "execution_count": 16,
   "metadata": {},
   "outputs": [
    {
     "name": "stdout",
     "output_type": "stream",
     "text": [
      "hola uan\n"
     ]
    }
   ],
   "source": [
    "msg1 = \"hola\"\n",
    "nombre =  'uan'\n",
    "\n",
    "concatenada = msg1 + \" \" + nombre\n",
    "print (concatenada)\n"
   ]
  },
  {
   "cell_type": "code",
   "execution_count": 20,
   "metadata": {},
   "outputs": [
    {
     "name": "stdout",
     "output_type": "stream",
     "text": [
      "holaholahola\n"
     ]
    }
   ],
   "source": [
    "repetir = msg1 * 3\n",
    "\n",
    "print (repetir)"
   ]
  },
  {
   "cell_type": "markdown",
   "metadata": {},
   "source": [
    "## Indexacion"
   ]
  },
  {
   "cell_type": "code",
   "execution_count": 31,
   "metadata": {},
   "outputs": [],
   "source": [
    "string = \"Hola, Mundo\""
   ]
  },
  {
   "cell_type": "code",
   "execution_count": 23,
   "metadata": {},
   "outputs": [
    {
     "data": {
      "text/plain": [
       "'H'"
      ]
     },
     "execution_count": 23,
     "metadata": {},
     "output_type": "execute_result"
    }
   ],
   "source": [
    "string[0]"
   ]
  },
  {
   "cell_type": "code",
   "execution_count": 24,
   "metadata": {},
   "outputs": [
    {
     "data": {
      "text/plain": [
       "','"
      ]
     },
     "execution_count": 24,
     "metadata": {},
     "output_type": "execute_result"
    }
   ],
   "source": [
    "string[4]"
   ]
  },
  {
   "cell_type": "code",
   "execution_count": 28,
   "metadata": {},
   "outputs": [
    {
     "data": {
      "text/plain": [
       "'o'"
      ]
     },
     "execution_count": 28,
     "metadata": {},
     "output_type": "execute_result"
    }
   ],
   "source": [
    "string[-1]"
   ]
  },
  {
   "cell_type": "markdown",
   "metadata": {},
   "source": [
    "## Trocear una cadena"
   ]
  },
  {
   "cell_type": "code",
   "execution_count": 29,
   "metadata": {},
   "outputs": [
    {
     "data": {
      "text/plain": [
       "' Hola, Mundo'"
      ]
     },
     "execution_count": 29,
     "metadata": {},
     "output_type": "execute_result"
    }
   ],
   "source": [
    "string[:] # Extraer la secuencia entrea desed el comienzo hasta el final"
   ]
  },
  {
   "cell_type": "code",
   "execution_count": 32,
   "metadata": {},
   "outputs": [
    {
     "data": {
      "text/plain": [
       "'Hola'"
      ]
     },
     "execution_count": 32,
     "metadata": {},
     "output_type": "execute_result"
    }
   ],
   "source": [
    "string[0:4] # [start:end] Extrae la secuendai desde start hasta end menos 1"
   ]
  },
  {
   "cell_type": "code",
   "execution_count": 35,
   "metadata": {},
   "outputs": [
    {
     "data": {
      "text/plain": [
       "'Hola, Mund'"
      ]
     },
     "execution_count": 35,
     "metadata": {},
     "output_type": "execute_result"
    }
   ],
   "source": [
    "string[:10] # Extrae desde el comienzo de la cadena hasta el final de la cadena -1"
   ]
  },
  {
   "cell_type": "code",
   "execution_count": 36,
   "metadata": {},
   "outputs": [
    {
     "data": {
      "text/plain": [
       "', Mundo'"
      ]
     },
     "execution_count": 36,
     "metadata": {},
     "output_type": "execute_result"
    }
   ],
   "source": [
    "string[4:] # Extrae desde el el inicio hasta el final de la cadena"
   ]
  },
  {
   "cell_type": "code",
   "execution_count": 40,
   "metadata": {},
   "outputs": [
    {
     "data": {
      "text/plain": [
       "'a'"
      ]
     },
     "execution_count": 40,
     "metadata": {},
     "output_type": "execute_result"
    }
   ],
   "source": [
    "string[3:-6:4] # [inicio:final:pasos]"
   ]
  },
  {
   "cell_type": "markdown",
   "metadata": {},
   "source": [
    "## Limpiar cadenas de texto"
   ]
  },
  {
   "cell_type": "code",
   "execution_count": 42,
   "metadata": {},
   "outputs": [],
   "source": [
    "texto = \"La tasea se calcula dividiendo el numero de delitos ocurrido por extorsion entre la poblacion de 18 anos y mas multiplicado por cien mil. La tasa se calcula..\""
   ]
  },
  {
   "cell_type": "code",
   "execution_count": 43,
   "metadata": {},
   "outputs": [
    {
     "data": {
      "text/plain": [
       "'La tasea se calcula dividiendo el numero de delitos ocurrido por extorsion entre la poblacion de 18 anos y mas multiplicado por cien mil. La tasa se calcula..'"
      ]
     },
     "execution_count": 43,
     "metadata": {},
     "output_type": "execute_result"
    }
   ],
   "source": [
    "texto.strip()"
   ]
  },
  {
   "cell_type": "code",
   "execution_count": 45,
   "metadata": {},
   "outputs": [
    {
     "name": "stdout",
     "output_type": "stream",
     "text": [
      "La tasea se calcula dividiendo el numero de delitos ocurrido por extorsion entre la poblacion de 18 anos y mas multiplicado por cien mil. La tasa se calcula..\n"
     ]
    }
   ],
   "source": [
    "texto.rstrip()\n",
    "print (texto)"
   ]
  },
  {
   "cell_type": "markdown",
   "metadata": {},
   "source": [
    "## Realizar busquedas en texto"
   ]
  },
  {
   "cell_type": "code",
   "execution_count": 57,
   "metadata": {},
   "outputs": [],
   "source": [
    "texto = 'La tasa se calcula dividiendo el numero de delitos ocurrido por extorsion entre la poblacion de 18 anos y mas multiplicado por cien mil. La tasa se calcula'"
   ]
  },
  {
   "cell_type": "code",
   "execution_count": 48,
   "metadata": {},
   "outputs": [
    {
     "data": {
      "text/plain": [
       "True"
      ]
     },
     "execution_count": 48,
     "metadata": {},
     "output_type": "execute_result"
    }
   ],
   "source": [
    "texto.startswith('La')"
   ]
  },
  {
   "cell_type": "code",
   "execution_count": 52,
   "metadata": {},
   "outputs": [
    {
     "data": {
      "text/plain": [
       "True"
      ]
     },
     "execution_count": 52,
     "metadata": {},
     "output_type": "execute_result"
    }
   ],
   "source": [
    "texto.endswith('calcula')"
   ]
  },
  {
   "cell_type": "code",
   "execution_count": 58,
   "metadata": {},
   "outputs": [
    {
     "data": {
      "text/plain": [
       "11"
      ]
     },
     "execution_count": 58,
     "metadata": {},
     "output_type": "execute_result"
    }
   ],
   "source": [
    "texto.find('calcula')"
   ]
  },
  {
   "cell_type": "markdown",
   "metadata": {},
   "source": [
    "## Mayusculas y minusculas"
   ]
  },
  {
   "cell_type": "code",
   "execution_count": 60,
   "metadata": {},
   "outputs": [
    {
     "data": {
      "text/plain": [
       "'LA TASA SE CALCULA DIVIDIENDO EL NUMERO DE DELITOS OCURRIDO POR EXTORSION ENTRE LA POBLACION DE 18 ANOS Y MAS MULTIPLICADO POR CIEN MIL. LA TASA SE CALCULA'"
      ]
     },
     "execution_count": 60,
     "metadata": {},
     "output_type": "execute_result"
    }
   ],
   "source": [
    "texto.upper()"
   ]
  },
  {
   "cell_type": "code",
   "execution_count": 59,
   "metadata": {},
   "outputs": [
    {
     "data": {
      "text/plain": [
       "'la tasa se calcula dividiendo el numero de delitos ocurrido por extorsion entre la poblacion de 18 anos y mas multiplicado por cien mil. la tasa se calcula'"
      ]
     },
     "execution_count": 59,
     "metadata": {},
     "output_type": "execute_result"
    }
   ],
   "source": [
    "texto.lower()"
   ]
  },
  {
   "cell_type": "markdown",
   "metadata": {},
   "source": [
    "## Pertenencia de un elemento"
   ]
  },
  {
   "cell_type": "code",
   "execution_count": 63,
   "metadata": {},
   "outputs": [
    {
     "data": {
      "text/plain": [
       "False"
      ]
     },
     "execution_count": 63,
     "metadata": {},
     "output_type": "execute_result"
    }
   ],
   "source": [
    "\"pero\" in texto"
   ]
  },
  {
   "cell_type": "markdown",
   "metadata": {},
   "source": [
    "## Interpolacion de cadena F-string"
   ]
  },
  {
   "cell_type": "markdown",
   "metadata": {},
   "source": [
    "Dando formato a mis mensajes "
   ]
  },
  {
   "cell_type": "code",
   "execution_count": 68,
   "metadata": {},
   "outputs": [],
   "source": [
    "name = \"Elon Musck\"\n",
    "age = 50 \n",
    "fortune = 500000"
   ]
  },
  {
   "cell_type": "code",
   "execution_count": 70,
   "metadata": {},
   "outputs": [
    {
     "name": "stdout",
     "output_type": "stream",
     "text": [
      "me llamo Elon Musck y tengo 50años, con una fortuna de500000 de millosnes\n"
     ]
    }
   ],
   "source": [
    "print(f'me llamo {name} y tengo {age} años, con una fortuna de{fortune} de millosnes')"
   ]
  },
  {
   "cell_type": "code",
   "execution_count": 86,
   "metadata": {},
   "outputs": [
    {
     "name": "stdout",
     "output_type": "stream",
     "text": [
      "El valor de pi redondeado a 3 digitos es 3.1416\n",
      "El valor de pi con 7 digitos es 0003.14\n",
      "El valor de pi con notacion es 3.141593e+00\n",
      "El valor de en binario es 1100110000110\n"
     ]
    }
   ],
   "source": [
    "import math\n",
    "\n",
    "pi = math.pi\n",
    "\n",
    "pi\n",
    "\n",
    "print(f'El valor de pi redondeado a 3 digitos es {pi:.4f}')\n",
    "print(f'El valor de pi con 7 digitos es {pi:07.2f}')\n",
    "print(f'El valor de pi con notacion es {pi:e}')\n",
    "dato_entero = 6534\n",
    "print(f'El valor de en binario es {dato_entero:b}')\n"
   ]
  },
  {
   "cell_type": "markdown",
   "metadata": {},
   "source": [
    "## Largo de una cadena de texto"
   ]
  },
  {
   "cell_type": "code",
   "execution_count": 87,
   "metadata": {},
   "outputs": [
    {
     "data": {
      "text/plain": [
       "155"
      ]
     },
     "execution_count": 87,
     "metadata": {},
     "output_type": "execute_result"
    }
   ],
   "source": [
    "len(texto)"
   ]
  }
 ],
 "metadata": {
  "kernelspec": {
   "display_name": "Diplomado",
   "language": "python",
   "name": "python3"
  },
  "language_info": {
   "codemirror_mode": {
    "name": "ipython",
    "version": 3
   },
   "file_extension": ".py",
   "mimetype": "text/x-python",
   "name": "python",
   "nbconvert_exporter": "python",
   "pygments_lexer": "ipython3",
   "version": "3.10.14"
  }
 },
 "nbformat": 4,
 "nbformat_minor": 2
}
