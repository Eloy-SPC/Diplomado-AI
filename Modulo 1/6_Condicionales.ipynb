{
 "cells": [
  {
   "cell_type": "markdown",
   "metadata": {},
   "source": [
    "## Condicionales"
   ]
  },
  {
   "cell_type": "code",
   "execution_count": 15,
   "metadata": {},
   "outputs": [
    {
     "name": "stdout",
     "output_type": "stream",
     "text": [
      "ayuida\n"
     ]
    }
   ],
   "source": [
    "Temp=12\n",
    "if Temp > 35:\n",
    "    print ('Aviso por alta temperatura')\n",
    "elif Temp == 12:\n",
    "    print('ayuida')\n",
    "else:\n",
    "    print (' NO es')"
   ]
  },
  {
   "cell_type": "code",
   "execution_count": 24,
   "metadata": {},
   "outputs": [
    {
     "name": "stdout",
     "output_type": "stream",
     "text": [
      "alerta verde\n"
     ]
    }
   ],
   "source": [
    "Temp=19\n",
    "if Temp < 20:\n",
    "    if Temp < 10:\n",
    "        print  ('alerta azul')\n",
    "    else:\n",
    "        print('alerta verde')\n",
    "else:\n",
    "    if Temp<= 30:\n",
    "        print('alerta naranja')\n",
    "    else:\n",
    "        print('Alerta roja')\n"
   ]
  },
  {
   "cell_type": "code",
   "execution_count": 26,
   "metadata": {},
   "outputs": [
    {
     "name": "stdout",
     "output_type": "stream",
     "text": [
      "alerta verde\n"
     ]
    }
   ],
   "source": [
    "Temp=19\n",
    "if Temp < 20:\n",
    "    if Temp < 10:\n",
    "        print  ('alerta azul')\n",
    "    else:\n",
    "        print('alerta verde')\n",
    "elif Temp<= 30:\n",
    "    print('alerta naranja')\n",
    "else:\n",
    "    print('Alerta roja')"
   ]
  },
  {
   "cell_type": "code",
   "execution_count": 27,
   "metadata": {},
   "outputs": [
    {
     "name": "stdout",
     "output_type": "stream",
     "text": [
      "alerta verde\n"
     ]
    }
   ],
   "source": [
    "Temp=19\n",
    "if Temp < 10:\n",
    "    print  ('alerta azul')\n",
    "elif Temp < 20:\n",
    "    print('alerta verde')\n",
    "elif Temp<= 30:\n",
    "    print('alerta naranja')\n",
    "else:\n",
    "    print('Alerta roja')"
   ]
  }
 ],
 "metadata": {
  "kernelspec": {
   "display_name": "Diplomado",
   "language": "python",
   "name": "python3"
  },
  "language_info": {
   "codemirror_mode": {
    "name": "ipython",
    "version": 3
   },
   "file_extension": ".py",
   "mimetype": "text/x-python",
   "name": "python",
   "nbconvert_exporter": "python",
   "pygments_lexer": "ipython3",
   "version": "3.10.14"
  }
 },
 "nbformat": 4,
 "nbformat_minor": 2
}
