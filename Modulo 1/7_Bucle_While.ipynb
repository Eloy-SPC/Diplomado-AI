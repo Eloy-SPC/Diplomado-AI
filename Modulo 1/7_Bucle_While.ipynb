{
 "cells": [
  {
   "cell_type": "markdown",
   "metadata": {},
   "source": [
    "## La sentencia While"
   ]
  },
  {
   "cell_type": "markdown",
   "metadata": {},
   "source": []
  },
  {
   "cell_type": "code",
   "execution_count": 13,
   "metadata": {},
   "outputs": [
    {
     "name": "stdout",
     "output_type": "stream",
     "text": [
      "Hola que tal !!\n",
      "Que tenga un buen dia\n"
     ]
    }
   ],
   "source": [
    "stop_word = 's'\n",
    "while stop_word == 's':\n",
    "    print('Hola que tal !!')\n",
    "    stop_word = input('Quiere otro saludo? [s,n]')\n",
    "\n",
    "print('Que tenga un buen dia')"
   ]
  },
  {
   "cell_type": "code",
   "execution_count": 18,
   "metadata": {},
   "outputs": [
    {
     "name": "stdout",
     "output_type": "stream",
     "text": [
      "hola\n"
     ]
    }
   ],
   "source": [
    "while True:\n",
    "    print ('hola')\n",
    "    break"
   ]
  },
  {
   "cell_type": "code",
   "execution_count": 19,
   "metadata": {},
   "outputs": [
    {
     "name": "stdout",
     "output_type": "stream",
     "text": [
      "Hola que tal !!\n",
      "Hola que tal !!\n",
      "Hola que tal !!\n",
      "Que tenga un buen dia\n"
     ]
    }
   ],
   "source": [
    "stop_word = 's'\n",
    "MAX_REP = 3\n",
    "n_rep = 0\n",
    "while stop_word == 's':\n",
    "    print('Hola que tal !!')\n",
    "    stop_word = input('Quiere otro saludo? [s,n]')\n",
    "    n_rep = n_rep + 1\n",
    "    if n_rep == MAX_REP:\n",
    "        break\n",
    "\n",
    "print('Que tenga un buen dia')"
   ]
  }
 ],
 "metadata": {
  "kernelspec": {
   "display_name": "Diplomado",
   "language": "python",
   "name": "python3"
  },
  "language_info": {
   "codemirror_mode": {
    "name": "ipython",
    "version": 3
   },
   "file_extension": ".py",
   "mimetype": "text/x-python",
   "name": "python",
   "nbconvert_exporter": "python",
   "pygments_lexer": "ipython3",
   "version": "3.10.14"
  }
 },
 "nbformat": 4,
 "nbformat_minor": 2
}
